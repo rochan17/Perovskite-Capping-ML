{
 "cells": [
  {
   "cell_type": "code",
   "execution_count": 1,
   "metadata": {},
   "outputs": [
    {
     "name": "stderr",
     "output_type": "stream",
     "text": [
      "C:\\ProgramData\\Anaconda3\\lib\\importlib\\_bootstrap.py:219: RuntimeWarning: numpy.ufunc size changed, may indicate binary incompatibility. Expected 192 from C header, got 216 from PyObject\n",
      "  return f(*args, **kwds)\n",
      "C:\\ProgramData\\Anaconda3\\lib\\importlib\\_bootstrap.py:219: RuntimeWarning: numpy.ufunc size changed, may indicate binary incompatibility. Expected 192 from C header, got 216 from PyObject\n",
      "  return f(*args, **kwds)\n",
      "C:\\ProgramData\\Anaconda3\\lib\\importlib\\_bootstrap.py:219: RuntimeWarning: numpy.ufunc size changed, may indicate binary incompatibility. Expected 192 from C header, got 216 from PyObject\n",
      "  return f(*args, **kwds)\n",
      "C:\\ProgramData\\Anaconda3\\lib\\importlib\\_bootstrap.py:219: RuntimeWarning: numpy.ufunc size changed, may indicate binary incompatibility. Expected 192 from C header, got 216 from PyObject\n",
      "  return f(*args, **kwds)\n",
      "C:\\ProgramData\\Anaconda3\\lib\\importlib\\_bootstrap.py:219: RuntimeWarning: numpy.ufunc size changed, may indicate binary incompatibility. Expected 192 from C header, got 216 from PyObject\n",
      "  return f(*args, **kwds)\n"
     ]
    }
   ],
   "source": [
    "import numpy as np\n",
    "import pandas as pd\n",
    "import matplotlib.pyplot as plt\n"
   ]
  },
  {
   "cell_type": "code",
   "execution_count": 287,
   "metadata": {},
   "outputs": [],
   "source": [
    "I1=pd.read_csv('dataset/input_withPTEAI.csv')\n",
    "I2=pd.read_csv('dataset/output_withPTEAI.csv')"
   ]
  },
  {
   "cell_type": "code",
   "execution_count": 288,
   "metadata": {},
   "outputs": [
    {
     "name": "stdout",
     "output_type": "stream",
     "text": [
      "<class 'pandas.core.frame.DataFrame'>\n",
      "RangeIndex: 225 entries, 0 to 224\n",
      "Data columns (total 14 columns):\n",
      " #   Column                   Non-Null Count  Dtype  \n",
      "---  ------                   --------------  -----  \n",
      " 0   Concentration (mM)       225 non-null    int64  \n",
      " 1   Annealing T              225 non-null    int64  \n",
      " 2   Molecular Weight         225 non-null    float64\n",
      " 3   # C atom                 225 non-null    int64  \n",
      " 4   # H atom                 225 non-null    int64  \n",
      " 5   # Br atom                225 non-null    int64  \n",
      " 6   # I atom                 225 non-null    int64  \n",
      " 7   # N atom                 225 non-null    int64  \n",
      " 8   # H-bond Donor           225 non-null    int64  \n",
      " 9   # Rotatable Bond         225 non-null    int64  \n",
      " 10  Top. Polar Surface Area  225 non-null    float64\n",
      " 11  # Heavy Atom             225 non-null    int64  \n",
      " 12  Complexity               225 non-null    float64\n",
      " 13  Partition Coeff.         225 non-null    float64\n",
      "dtypes: float64(4), int64(10)\n",
      "memory usage: 24.7 KB\n"
     ]
    }
   ],
   "source": [
    "I1.info()"
   ]
  },
  {
   "cell_type": "code",
   "execution_count": 289,
   "metadata": {},
   "outputs": [],
   "source": [
    "data_wo_MAPI=I2[I2['compound']!='MAPI']"
   ]
  },
  {
   "cell_type": "code",
   "execution_count": 290,
   "metadata": {},
   "outputs": [
    {
     "data": {
      "text/html": [
       "<div>\n",
       "<style scoped>\n",
       "    .dataframe tbody tr th:only-of-type {\n",
       "        vertical-align: middle;\n",
       "    }\n",
       "\n",
       "    .dataframe tbody tr th {\n",
       "        vertical-align: top;\n",
       "    }\n",
       "\n",
       "    .dataframe thead th {\n",
       "        text-align: right;\n",
       "    }\n",
       "</style>\n",
       "<table border=\"1\" class=\"dataframe\">\n",
       "  <thead>\n",
       "    <tr style=\"text-align: right;\">\n",
       "      <th></th>\n",
       "      <th>compound</th>\n",
       "      <th>concentration_mM</th>\n",
       "      <th>annealing_T</th>\n",
       "      <th>molecular_weight</th>\n",
       "      <th>C</th>\n",
       "      <th>H</th>\n",
       "      <th>Br</th>\n",
       "      <th>I</th>\n",
       "      <th>N</th>\n",
       "      <th>Hbond_donor</th>\n",
       "      <th>...</th>\n",
       "      <th>xlogP</th>\n",
       "      <th>param1_r</th>\n",
       "      <th>param2_r</th>\n",
       "      <th>xinterp_r</th>\n",
       "      <th>max_x_r</th>\n",
       "      <th>param1_g</th>\n",
       "      <th>param2_g</th>\n",
       "      <th>xinterp_g</th>\n",
       "      <th>max_x_g</th>\n",
       "      <th>date</th>\n",
       "    </tr>\n",
       "  </thead>\n",
       "  <tbody>\n",
       "    <tr>\n",
       "      <th>0</th>\n",
       "      <td>BzABr</td>\n",
       "      <td>5</td>\n",
       "      <td>100</td>\n",
       "      <td>188.068</td>\n",
       "      <td>7</td>\n",
       "      <td>10</td>\n",
       "      <td>1</td>\n",
       "      <td>0</td>\n",
       "      <td>1</td>\n",
       "      <td>1</td>\n",
       "      <td>...</td>\n",
       "      <td>1.1</td>\n",
       "      <td>1.48800</td>\n",
       "      <td>-12.0704</td>\n",
       "      <td>8.1118</td>\n",
       "      <td>175.0500</td>\n",
       "      <td>1.54680</td>\n",
       "      <td>-6.8205</td>\n",
       "      <td>4.4095</td>\n",
       "      <td>170.0500</td>\n",
       "      <td>20190530</td>\n",
       "    </tr>\n",
       "    <tr>\n",
       "      <th>1</th>\n",
       "      <td>BzABr</td>\n",
       "      <td>10</td>\n",
       "      <td>100</td>\n",
       "      <td>188.068</td>\n",
       "      <td>7</td>\n",
       "      <td>10</td>\n",
       "      <td>1</td>\n",
       "      <td>0</td>\n",
       "      <td>1</td>\n",
       "      <td>1</td>\n",
       "      <td>...</td>\n",
       "      <td>1.1</td>\n",
       "      <td>1.36500</td>\n",
       "      <td>-111.6000</td>\n",
       "      <td>81.7582</td>\n",
       "      <td>200.0667</td>\n",
       "      <td>1.47750</td>\n",
       "      <td>-119.0275</td>\n",
       "      <td>80.5601</td>\n",
       "      <td>210.0667</td>\n",
       "      <td>20190530</td>\n",
       "    </tr>\n",
       "    <tr>\n",
       "      <th>2</th>\n",
       "      <td>BzABr</td>\n",
       "      <td>15</td>\n",
       "      <td>100</td>\n",
       "      <td>188.068</td>\n",
       "      <td>7</td>\n",
       "      <td>10</td>\n",
       "      <td>1</td>\n",
       "      <td>0</td>\n",
       "      <td>1</td>\n",
       "      <td>1</td>\n",
       "      <td>...</td>\n",
       "      <td>1.1</td>\n",
       "      <td>1.44400</td>\n",
       "      <td>-189.5344</td>\n",
       "      <td>131.2565</td>\n",
       "      <td>225.0667</td>\n",
       "      <td>1.35550</td>\n",
       "      <td>-169.5730</td>\n",
       "      <td>125.1000</td>\n",
       "      <td>235.0833</td>\n",
       "      <td>20190530</td>\n",
       "    </tr>\n",
       "    <tr>\n",
       "      <th>3</th>\n",
       "      <td>BzAI</td>\n",
       "      <td>5</td>\n",
       "      <td>50</td>\n",
       "      <td>235.070</td>\n",
       "      <td>7</td>\n",
       "      <td>10</td>\n",
       "      <td>0</td>\n",
       "      <td>1</td>\n",
       "      <td>1</td>\n",
       "      <td>1</td>\n",
       "      <td>...</td>\n",
       "      <td>1.1</td>\n",
       "      <td>1.77450</td>\n",
       "      <td>-177.1800</td>\n",
       "      <td>99.8430</td>\n",
       "      <td>168.1300</td>\n",
       "      <td>1.55730</td>\n",
       "      <td>-150.8800</td>\n",
       "      <td>96.8860</td>\n",
       "      <td>174.1300</td>\n",
       "      <td>20190805</td>\n",
       "    </tr>\n",
       "    <tr>\n",
       "      <th>4</th>\n",
       "      <td>BzAI</td>\n",
       "      <td>10</td>\n",
       "      <td>50</td>\n",
       "      <td>235.070</td>\n",
       "      <td>7</td>\n",
       "      <td>10</td>\n",
       "      <td>0</td>\n",
       "      <td>1</td>\n",
       "      <td>1</td>\n",
       "      <td>1</td>\n",
       "      <td>...</td>\n",
       "      <td>1.1</td>\n",
       "      <td>1.14080</td>\n",
       "      <td>-180.9700</td>\n",
       "      <td>158.6400</td>\n",
       "      <td>255.1800</td>\n",
       "      <td>1.06830</td>\n",
       "      <td>-167.8700</td>\n",
       "      <td>157.1300</td>\n",
       "      <td>252.1800</td>\n",
       "      <td>20190805</td>\n",
       "    </tr>\n",
       "    <tr>\n",
       "      <th>...</th>\n",
       "      <td>...</td>\n",
       "      <td>...</td>\n",
       "      <td>...</td>\n",
       "      <td>...</td>\n",
       "      <td>...</td>\n",
       "      <td>...</td>\n",
       "      <td>...</td>\n",
       "      <td>...</td>\n",
       "      <td>...</td>\n",
       "      <td>...</td>\n",
       "      <td>...</td>\n",
       "      <td>...</td>\n",
       "      <td>...</td>\n",
       "      <td>...</td>\n",
       "      <td>...</td>\n",
       "      <td>...</td>\n",
       "      <td>...</td>\n",
       "      <td>...</td>\n",
       "      <td>...</td>\n",
       "      <td>...</td>\n",
       "      <td>...</td>\n",
       "    </tr>\n",
       "    <tr>\n",
       "      <th>220</th>\n",
       "      <td>TPAI</td>\n",
       "      <td>10</td>\n",
       "      <td>125</td>\n",
       "      <td>312.267</td>\n",
       "      <td>12</td>\n",
       "      <td>28</td>\n",
       "      <td>0</td>\n",
       "      <td>1</td>\n",
       "      <td>1</td>\n",
       "      <td>0</td>\n",
       "      <td>...</td>\n",
       "      <td>3.9</td>\n",
       "      <td>0.37265</td>\n",
       "      <td>-166.7200</td>\n",
       "      <td>447.3700</td>\n",
       "      <td>870.6300</td>\n",
       "      <td>0.38265</td>\n",
       "      <td>-174.6200</td>\n",
       "      <td>456.3300</td>\n",
       "      <td>1708.2000</td>\n",
       "      <td>20190805</td>\n",
       "    </tr>\n",
       "    <tr>\n",
       "      <th>221</th>\n",
       "      <td>TPAI</td>\n",
       "      <td>15</td>\n",
       "      <td>125</td>\n",
       "      <td>312.267</td>\n",
       "      <td>12</td>\n",
       "      <td>28</td>\n",
       "      <td>0</td>\n",
       "      <td>1</td>\n",
       "      <td>1</td>\n",
       "      <td>0</td>\n",
       "      <td>...</td>\n",
       "      <td>3.9</td>\n",
       "      <td>0.28361</td>\n",
       "      <td>-114.6300</td>\n",
       "      <td>404.1900</td>\n",
       "      <td>795.5800</td>\n",
       "      <td>0.38533</td>\n",
       "      <td>-185.9600</td>\n",
       "      <td>482.5900</td>\n",
       "      <td>1441.0000</td>\n",
       "      <td>20190805</td>\n",
       "    </tr>\n",
       "    <tr>\n",
       "      <th>222</th>\n",
       "      <td>TPAI</td>\n",
       "      <td>10</td>\n",
       "      <td>75</td>\n",
       "      <td>312.267</td>\n",
       "      <td>12</td>\n",
       "      <td>28</td>\n",
       "      <td>0</td>\n",
       "      <td>1</td>\n",
       "      <td>1</td>\n",
       "      <td>0</td>\n",
       "      <td>...</td>\n",
       "      <td>3.9</td>\n",
       "      <td>0.55084</td>\n",
       "      <td>-178.4100</td>\n",
       "      <td>323.8900</td>\n",
       "      <td>597.4300</td>\n",
       "      <td>0.57334</td>\n",
       "      <td>-190.4200</td>\n",
       "      <td>332.1300</td>\n",
       "      <td>597.4300</td>\n",
       "      <td>20190921</td>\n",
       "    </tr>\n",
       "    <tr>\n",
       "      <th>223</th>\n",
       "      <td>TPAI</td>\n",
       "      <td>10</td>\n",
       "      <td>75</td>\n",
       "      <td>312.267</td>\n",
       "      <td>12</td>\n",
       "      <td>28</td>\n",
       "      <td>0</td>\n",
       "      <td>1</td>\n",
       "      <td>1</td>\n",
       "      <td>0</td>\n",
       "      <td>...</td>\n",
       "      <td>3.9</td>\n",
       "      <td>0.35891</td>\n",
       "      <td>-110.2800</td>\n",
       "      <td>307.2600</td>\n",
       "      <td>597.4300</td>\n",
       "      <td>0.33976</td>\n",
       "      <td>-101.3800</td>\n",
       "      <td>298.4000</td>\n",
       "      <td>597.4300</td>\n",
       "      <td>20190921</td>\n",
       "    </tr>\n",
       "    <tr>\n",
       "      <th>224</th>\n",
       "      <td>TPAI</td>\n",
       "      <td>10</td>\n",
       "      <td>75</td>\n",
       "      <td>312.267</td>\n",
       "      <td>12</td>\n",
       "      <td>28</td>\n",
       "      <td>0</td>\n",
       "      <td>1</td>\n",
       "      <td>1</td>\n",
       "      <td>0</td>\n",
       "      <td>...</td>\n",
       "      <td>3.9</td>\n",
       "      <td>0.62633</td>\n",
       "      <td>-221.2800</td>\n",
       "      <td>353.3000</td>\n",
       "      <td>597.4300</td>\n",
       "      <td>0.58613</td>\n",
       "      <td>-197.9500</td>\n",
       "      <td>337.7200</td>\n",
       "      <td>597.4300</td>\n",
       "      <td>20190921</td>\n",
       "    </tr>\n",
       "  </tbody>\n",
       "</table>\n",
       "<p>225 rows × 24 columns</p>\n",
       "</div>"
      ],
      "text/plain": [
       "    compound  concentration_mM  annealing_T  molecular_weight   C   H  Br  I  \\\n",
       "0      BzABr                 5          100           188.068   7  10   1  0   \n",
       "1      BzABr                10          100           188.068   7  10   1  0   \n",
       "2      BzABr                15          100           188.068   7  10   1  0   \n",
       "3       BzAI                 5           50           235.070   7  10   0  1   \n",
       "4       BzAI                10           50           235.070   7  10   0  1   \n",
       "..       ...               ...          ...               ...  ..  ..  .. ..   \n",
       "220     TPAI                10          125           312.267  12  28   0  1   \n",
       "221     TPAI                15          125           312.267  12  28   0  1   \n",
       "222     TPAI                10           75           312.267  12  28   0  1   \n",
       "223     TPAI                10           75           312.267  12  28   0  1   \n",
       "224     TPAI                10           75           312.267  12  28   0  1   \n",
       "\n",
       "     N  Hbond_donor  ...  xlogP  param1_r  param2_r  xinterp_r   max_x_r  \\\n",
       "0    1            1  ...    1.1   1.48800  -12.0704     8.1118  175.0500   \n",
       "1    1            1  ...    1.1   1.36500 -111.6000    81.7582  200.0667   \n",
       "2    1            1  ...    1.1   1.44400 -189.5344   131.2565  225.0667   \n",
       "3    1            1  ...    1.1   1.77450 -177.1800    99.8430  168.1300   \n",
       "4    1            1  ...    1.1   1.14080 -180.9700   158.6400  255.1800   \n",
       "..  ..          ...  ...    ...       ...       ...        ...       ...   \n",
       "220  1            0  ...    3.9   0.37265 -166.7200   447.3700  870.6300   \n",
       "221  1            0  ...    3.9   0.28361 -114.6300   404.1900  795.5800   \n",
       "222  1            0  ...    3.9   0.55084 -178.4100   323.8900  597.4300   \n",
       "223  1            0  ...    3.9   0.35891 -110.2800   307.2600  597.4300   \n",
       "224  1            0  ...    3.9   0.62633 -221.2800   353.3000  597.4300   \n",
       "\n",
       "     param1_g  param2_g  xinterp_g    max_x_g      date  \n",
       "0     1.54680   -6.8205     4.4095   170.0500  20190530  \n",
       "1     1.47750 -119.0275    80.5601   210.0667  20190530  \n",
       "2     1.35550 -169.5730   125.1000   235.0833  20190530  \n",
       "3     1.55730 -150.8800    96.8860   174.1300  20190805  \n",
       "4     1.06830 -167.8700   157.1300   252.1800  20190805  \n",
       "..        ...       ...        ...        ...       ...  \n",
       "220   0.38265 -174.6200   456.3300  1708.2000  20190805  \n",
       "221   0.38533 -185.9600   482.5900  1441.0000  20190805  \n",
       "222   0.57334 -190.4200   332.1300   597.4300  20190921  \n",
       "223   0.33976 -101.3800   298.4000   597.4300  20190921  \n",
       "224   0.58613 -197.9500   337.7200   597.4300  20190921  \n",
       "\n",
       "[225 rows x 24 columns]"
      ]
     },
     "execution_count": 290,
     "metadata": {},
     "output_type": "execute_result"
    }
   ],
   "source": [
    "data_wo_MAPI"
   ]
  },
  {
   "cell_type": "code",
   "execution_count": 291,
   "metadata": {},
   "outputs": [
    {
     "data": {
      "text/plain": [
       "Index(['compound', 'concentration_mM', 'annealing_T', 'molecular_weight', 'C',\n",
       "       'H', 'Br', 'I', 'N', 'Hbond_donor', 'rotatable_bond', 'topPolar_area',\n",
       "       'heavy_atom', 'complexity', 'xlogP', 'param1_r', 'param2_r',\n",
       "       'xinterp_r', 'max_x_r', 'param1_g', 'param2_g', 'xinterp_g', 'max_x_g',\n",
       "       'date'],\n",
       "      dtype='object')"
      ]
     },
     "execution_count": 291,
     "metadata": {},
     "output_type": "execute_result"
    }
   ],
   "source": [
    "data_wo_MAPI.columns"
   ]
  },
  {
   "cell_type": "code",
   "execution_count": 292,
   "metadata": {},
   "outputs": [],
   "source": [
    "X_input=data_wo_MAPI[['concentration_mM', 'annealing_T', 'molecular_weight', 'C',\n",
    "       'H', 'Br', 'I', 'N', 'Hbond_donor', 'rotatable_bond', 'topPolar_area',\n",
    "       'heavy_atom', 'complexity', 'xlogP']]\n",
    "\n",
    "y_input =data_wo_MAPI['xinterp_r']"
   ]
  },
  {
   "cell_type": "code",
   "execution_count": 293,
   "metadata": {},
   "outputs": [],
   "source": [
    "from sklearn.preprocessing import StandardScaler\n",
    "from sklearn.model_selection import train_test_split\n",
    "from sklearn.svm import SVR\n",
    "from sklearn.ensemble import RandomForestRegressor\n",
    "from xgboost import XGBRegressor\n",
    "from sklearn.gaussian_process import GaussianProcessRegressor\n",
    "from sklearn.model_selection import GridSearchCV\n",
    "from sklearn.metrics import mean_absolute_error,mean_squared_error,r2_score"
   ]
  },
  {
   "cell_type": "code",
   "execution_count": 375,
   "metadata": {},
   "outputs": [],
   "source": [
    "# train_test_split\n",
    "\n",
    "X_train,X_test,y_train,y_test=train_test_split(X_input,y_input,test_size=0.2)\n",
    "scaler_x=StandardScaler()\n",
    "X_train=scaler_x.fit_transform(X_train)\n",
    "X_test=scaler_x.transform(X_test)\n",
    "#scaler_y=StandardScaler()\n",
    "#y_train=scaler_y.fit_transform(y_train.values.reshape(-1,1))\n",
    "#y_test=scaler_y.transform(y_test.values.reshape(-1,1))"
   ]
  },
  {
   "cell_type": "code",
   "execution_count": 456,
   "metadata": {},
   "outputs": [],
   "source": [
    "def Running_the_Model(model,param_grid):\n",
    "    \n",
    "    grid_search=GridSearchCV(estimator=model,param_grid=param_grid,\n",
    "                            n_jobs=-1,cv=5,scoring='neg_mean_squared_error')\n",
    "    \n",
    "    grid_search.fit(X_train,y_train)\n",
    "    \n",
    "    y_pred=grid_search.predict(X_test)\n",
    "    \n",
    "    #y_pred=scaler_y.inverse_transform(y_pred)\n",
    "    #y_test=scaler_y.inverse_transform(y_pred)\n",
    "    \n",
    "    print(\"RMSE   : \",np.sqrt(mean_squared_error(y_test,y_pred)))\n",
    "    print('MAE     :',mean_absolute_error(y_test,y_pred))\n",
    "    print('R²    :',r2_score(y_test,y_pred))\n",
    "    \n",
    "    return grid_search\n",
    "\n",
    "def plot_fxn(grid):\n",
    "    \n",
    "    y_prediction = grid.predict(X_test)\n",
    "    \n",
    "    plt.figure(figsize=(5,5))\n",
    "    plt.scatter(y_train,grid.predict(X_train),label='Train Set',marker='s')\n",
    "    plt.scatter(y_test,y_prediction,label='Test Set')\n",
    "    plt.plot(range(0,801),range(0,801),'--',c='black',lw=3)\n",
    "    plt.legend()\n",
    "    plt.xlim(0,800)\n",
    "    plt.ylim(0,800)\n",
    "    plt.show()"
   ]
  },
  {
   "cell_type": "markdown",
   "metadata": {},
   "source": [
    "## SVM"
   ]
  },
  {
   "cell_type": "code",
   "execution_count": 457,
   "metadata": {},
   "outputs": [
    {
     "name": "stdout",
     "output_type": "stream",
     "text": [
      "RMSE   :  67.7049894163101\n",
      "MAE     : 50.43371912310235\n",
      "R²    : 0.7776079350595342\n"
     ]
    },
    {
     "data": {
      "image/png": "[encoded data removed]",
      "text/plain": [
       "<Figure size 360x360 with 1 Axes>"
      ]
     },
     "metadata": {
      "needs_background": "light"
     },
     "output_type": "display_data"
    }
   ],
   "source": [
    "svm=SVR()\n",
    "params_svr={'kernel':['rbf','linear','poly'],'C':np.logspace(-2,4,10)}\n",
    "svm_grid=Running_the_Model(svm,params_svr)\n",
    "plot_fxn(svm_grid)"
   ]
  },
  {
   "cell_type": "code",
   "execution_count": 458,
   "metadata": {},
   "outputs": [],
   "source": [
    "y_prediction = svm_grid.predict(X_test)"
   ]
  },
  {
   "cell_type": "code",
   "execution_count": 459,
   "metadata": {},
   "outputs": [],
   "source": [
    "H=pd.DataFrame(data=[y_test.values,y_prediction]).T"
   ]
  },
  {
   "cell_type": "code",
   "execution_count": 460,
   "metadata": {},
   "outputs": [],
   "source": [
    "H['diff']=np.abs(H[0]-H[1])"
   ]
  },
  {
   "cell_type": "markdown",
   "metadata": {},
   "source": [
    "## Gaussian Process"
   ]
  },
  {
   "cell_type": "code",
   "execution_count": 461,
   "metadata": {},
   "outputs": [],
   "source": [
    "from sklearn.gaussian_process.kernels import RBF\n",
    "gp_reg=GaussianProcessRegressor(n_restarts_optimizer=2)\n",
    "gp_params={'kernel':[3*RBF()**3,5*RBF(2),RBF(3),2*RBF()**2,RBF()],'alpha':np.logspace(2.5,-10,11)}"
   ]
  },
  {
   "cell_type": "code",
   "execution_count": 462,
   "metadata": {},
   "outputs": [
    {
     "name": "stdout",
     "output_type": "stream",
     "text": [
      "RMSE   :  63.31965247789902\n",
      "MAE     : 49.77689050522808\n",
      "R²    : 0.8054841552813456\n"
     ]
    },
    {
     "data": {
      "image/png": "[encoded data removed]",
      "text/plain": [
       "<Figure size 360x360 with 1 Axes>"
      ]
     },
     "metadata": {
      "needs_background": "light"
     },
     "output_type": "display_data"
    }
   ],
   "source": [
    "gp_grid=Running_the_Model(gp_reg,gp_params)\n",
    "plot_fxn(gp_grid)"
   ]
  },
  {
   "cell_type": "code",
   "execution_count": 463,
   "metadata": {},
   "outputs": [
    {
     "data": {
      "text/plain": [
       "{'alpha': 1.0, 'kernel': RBF(length_scale=1)}"
      ]
     },
     "execution_count": 463,
     "metadata": {},
     "output_type": "execute_result"
    }
   ],
   "source": [
    "gp_grid.best_params_"
   ]
  },
  {
   "cell_type": "markdown",
   "metadata": {},
   "source": [
    "## XGBoost"
   ]
  },
  {
   "cell_type": "code",
   "execution_count": 464,
   "metadata": {},
   "outputs": [],
   "source": [
    "xgb=XGBRegressor(n_jobs=-1)\n",
    "xgb_params={'n_estimators':[25,50,100,200],'learning_rate':np.logspace(-5,0,10),\n",
    "           'max_depth':[5,10,15,20]}"
   ]
  },
  {
   "cell_type": "code",
   "execution_count": 465,
   "metadata": {},
   "outputs": [
    {
     "name": "stderr",
     "output_type": "stream",
     "text": [
      "A worker stopped while some jobs were given to the executor. This can be caused by a too short worker timeout or by a memory leak.\n"
     ]
    },
    {
     "name": "stdout",
     "output_type": "stream",
     "text": [
      "RMSE   :  64.27905916755314\n",
      "MAE     : 52.86230186619249\n",
      "R²    : 0.7995449686863193\n"
     ]
    },
    {
     "data": {
      "image/png": "[encoded data removed]",
      "text/plain": [
       "<Figure size 360x360 with 1 Axes>"
      ]
     },
     "metadata": {
      "needs_background": "light"
     },
     "output_type": "display_data"
    }
   ],
   "source": [
    "xgb_grid=Running_the_Model(xgb,xgb_params)\n",
    "plot_fxn(xgb_grid)"
   ]
  },
  {
   "cell_type": "code",
   "execution_count": 466,
   "metadata": {},
   "outputs": [
    {
     "data": {
      "text/plain": [
       "{'learning_rate': 0.07742636826811278, 'max_depth': 5, 'n_estimators': 50}"
      ]
     },
     "execution_count": 466,
     "metadata": {},
     "output_type": "execute_result"
    }
   ],
   "source": [
    "xgb_grid.best_params_"
   ]
  },
  {
   "cell_type": "markdown",
   "metadata": {},
   "source": [
    "## Random Forest"
   ]
  },
  {
   "cell_type": "code",
   "execution_count": 467,
   "metadata": {},
   "outputs": [],
   "source": [
    "rf=RandomForestRegressor(n_jobs=-1)\n",
    "rf_params={'n_estimators':[25,50,75,100,150,200],'max_depth':[10,15,20]}"
   ]
  },
  {
   "cell_type": "code",
   "execution_count": 468,
   "metadata": {},
   "outputs": [
    {
     "name": "stdout",
     "output_type": "stream",
     "text": [
      "RMSE   :  62.41347478206254\n",
      "MAE     : 50.33925771092936\n",
      "R²    : 0.8110118114893492\n"
     ]
    }
   ],
   "source": [
    "rf_grid=Running_the_Model(rf,rf_params)"
   ]
  },
  {
   "cell_type": "code",
   "execution_count": 469,
   "metadata": {},
   "outputs": [
    {
     "data": {
      "image/png": "[encoded data removed]",
      "text/plain": [
       "<Figure size 360x360 with 1 Axes>"
      ]
     },
     "metadata": {
      "needs_background": "light"
     },
     "output_type": "display_data"
    }
   ],
   "source": [
    "plot_fxn(rf_grid)"
   ]
  },
  {
   "cell_type": "code",
   "execution_count": 470,
   "metadata": {},
   "outputs": [
    {
     "data": {
      "text/plain": [
       "{'max_depth': 20, 'n_estimators': 50}"
      ]
     },
     "execution_count": 470,
     "metadata": {},
     "output_type": "execute_result"
    }
   ],
   "source": [
    "rf_grid.best_params_"
   ]
  },
  {
   "cell_type": "code",
   "execution_count": 471,
   "metadata": {},
   "outputs": [],
   "source": [
    "from sklearn.model_selection import cross_val_score\n",
    "\n",
    "# Standardize all X\n",
    "X_scaled = scaler_x.transform(X_input)\n",
    "\n",
    "# Obtain cross-validation scores of various regressors\n",
    "rf_score = cross_val_score(rf_grid, X_scaled, y_input, cv=5, scoring='neg_mean_squared_error',n_jobs=-1)\n",
    "gb_score = cross_val_score(xgb_grid, X_scaled, y_input, cv=5, scoring='neg_mean_squared_error',n_jobs=-1)\n",
    "gp_score = cross_val_score(gp_grid, X_scaled, y_input, cv=5, scoring='neg_mean_squared_error',n_jobs=-1)\n",
    "svr_score = cross_val_score(svm_grid,X_scaled, y_input, cv=5, scoring='neg_mean_squared_error',n_jobs=-1)"
   ]
  },
  {
   "cell_type": "code",
   "execution_count": 487,
   "metadata": {},
   "outputs": [
    {
     "name": "stdout",
     "output_type": "stream",
     "text": [
      "                        RMSE   RMSE-Std\n",
      "RandomForest      102.700593  32.156263\n",
      "XGBoost           120.259600  38.714510\n",
      "Gaussian Process   99.786551  34.606374\n",
      "SVM               117.702305  34.216420\n"
     ]
    },
    {
     "data": {
      "image/png": "[encoded data removed]",
      "text/plain": [
       "<Figure size 576x360 with 1 Axes>"
      ]
     },
     "metadata": {
      "needs_background": "light"
     },
     "output_type": "display_data"
    }
   ],
   "source": [
    "fig,ax = plt.subplots(figsize=(8,5))\n",
    "model = ['Random Forest', 'XG-Boosting', 'Gaussian Process','SVR']\n",
    "rmse_scores = [np.mean(np.sqrt(-rf_score)), np.mean(np.sqrt(-gb_score)), np.mean(np.sqrt(-gp_score)),np.mean(np.sqrt(-svr_score))]\n",
    "std  = [np.std(np.sqrt(-rf_score)), np.std(np.sqrt(-gb_score)), np.std(np.sqrt(-gp_score)),np.std(np.sqrt(-svr_score))]\n",
    "Results=pd.DataFrame(index=['RandomForest','XGBoost','Gaussian Process','SVM'],columns=['RMSE','RMSE-Std'])\n",
    "Results['RMSE']=rmse_scores\n",
    "Results['RMSE-Std']=std\n",
    "print(Results)\n",
    "fontsize = 12\n",
    "ax.bar(model,scores,yerr=std,alpha=1, capsize=3,color='red')\n",
    "ax.set_ylabel('RMSE (mins.)',fontsize=fontsize)\n",
    "# ax.set_title('Cross Validation Score',fontsize=fontsize)\n",
    "plt.xticks(rotation=90)\n",
    "plt.ylim(0,200)\n",
    "plt.show()"
   ]
  },
  {
   "cell_type": "markdown",
   "metadata": {},
   "source": [
    "## SHAP ANALYSIS"
   ]
  },
  {
   "cell_type": "code",
   "execution_count": 489,
   "metadata": {},
   "outputs": [],
   "source": [
    "import shap"
   ]
  },
  {
   "cell_type": "code",
   "execution_count": 562,
   "metadata": {},
   "outputs": [],
   "source": [
    "X_new_train=np.array(np.median(X_train,axis=0)).reshape(1,-1)"
   ]
  },
  {
   "cell_type": "code",
   "execution_count": 563,
   "metadata": {},
   "outputs": [
    {
     "data": {
      "text/html": [
       "<div>\n",
       "<style scoped>\n",
       "    .dataframe tbody tr th:only-of-type {\n",
       "        vertical-align: middle;\n",
       "    }\n",
       "\n",
       "    .dataframe tbody tr th {\n",
       "        vertical-align: top;\n",
       "    }\n",
       "\n",
       "    .dataframe thead th {\n",
       "        text-align: right;\n",
       "    }\n",
       "</style>\n",
       "<table border=\"1\" class=\"dataframe\">\n",
       "  <thead>\n",
       "    <tr style=\"text-align: right;\">\n",
       "      <th></th>\n",
       "      <th>0</th>\n",
       "      <th>1</th>\n",
       "      <th>2</th>\n",
       "      <th>3</th>\n",
       "      <th>4</th>\n",
       "      <th>5</th>\n",
       "      <th>6</th>\n",
       "      <th>7</th>\n",
       "      <th>8</th>\n",
       "      <th>9</th>\n",
       "      <th>10</th>\n",
       "      <th>11</th>\n",
       "      <th>12</th>\n",
       "      <th>13</th>\n",
       "    </tr>\n",
       "  </thead>\n",
       "  <tbody>\n",
       "    <tr>\n",
       "      <th>0</th>\n",
       "      <td>0.007012</td>\n",
       "      <td>0.438383</td>\n",
       "      <td>0.476881</td>\n",
       "      <td>0.347717</td>\n",
       "      <td>0.506818</td>\n",
       "      <td>-0.611593</td>\n",
       "      <td>0.611593</td>\n",
       "      <td>-0.122628</td>\n",
       "      <td>-0.876681</td>\n",
       "      <td>0.360231</td>\n",
       "      <td>-0.909925</td>\n",
       "      <td>0.345862</td>\n",
       "      <td>0.111128</td>\n",
       "      <td>0.346896</td>\n",
       "    </tr>\n",
       "  </tbody>\n",
       "</table>\n",
       "</div>"
      ],
      "text/plain": [
       "          0         1         2         3         4         5         6  \\\n",
       "0  0.007012  0.438383  0.476881  0.347717  0.506818 -0.611593  0.611593   \n",
       "\n",
       "          7         8         9        10        11        12        13  \n",
       "0 -0.122628 -0.876681  0.360231 -0.909925  0.345862  0.111128  0.346896  "
      ]
     },
     "execution_count": 563,
     "metadata": {},
     "output_type": "execute_result"
    }
   ],
   "source": [
    "pd.DataFrame(X_new_train)"
   ]
  },
  {
   "cell_type": "code",
   "execution_count": 564,
   "metadata": {},
   "outputs": [],
   "source": [
    "shap_explain=shap.KernelExplainer(gp_grid.predict,data=X_new_train)"
   ]
  },
  {
   "cell_type": "code",
   "execution_count": 565,
   "metadata": {},
   "outputs": [],
   "source": [
    "import warnings\n",
    "warnings.filterwarnings(action='ignore')\n",
    "\n",
    "X_train=pd.DataFrame(X_train)\n",
    "X_train.columns=I1.columns"
   ]
  },
  {
   "cell_type": "code",
   "execution_count": 566,
   "metadata": {},
   "outputs": [
    {
     "data": {
      "application/vnd.jupyter.widget-view+json": {
       "model_id": "23c695c6e8d844f7b94e4b437f39888d",
       "version_major": 2,
       "version_minor": 0
      },
      "text/plain": [
       "HBox(children=(FloatProgress(value=0.0, max=180.0), HTML(value='')))"
      ]
     },
     "metadata": {},
     "output_type": "display_data"
    },
    {
     "name": "stdout",
     "output_type": "stream",
     "text": [
      "\n"
     ]
    }
   ],
   "source": [
    "shap_values=shap_explain.shap_values(X_train)"
   ]
  },
  {
   "cell_type": "code",
   "execution_count": 567,
   "metadata": {},
   "outputs": [
    {
     "data": {
      "image/png": "[encoded data removed]",
      "text/plain": [
       "<Figure size 576x511.2 with 2 Axes>"
      ]
     },
     "metadata": {
      "needs_background": "light"
     },
     "output_type": "display_data"
    }
   ],
   "source": [
    "shap.summary_plot(shap_values,X_train)"
   ]
  },
  {
   "cell_type": "markdown",
   "metadata": {},
   "source": [
    "## SHAP ANALYSIS FOR RF"
   ]
  },
  {
   "cell_type": "code",
   "execution_count": 576,
   "metadata": {},
   "outputs": [
    {
     "data": {
      "text/plain": [
       "RandomForestRegressor(max_depth=20, n_estimators=50)"
      ]
     },
     "execution_count": 576,
     "metadata": {},
     "output_type": "execute_result"
    }
   ],
   "source": [
    "rf_reg=RandomForestRegressor(**rf_grid.best_params_)\n",
    "rf_reg.fit(X_train,y_train)"
   ]
  },
  {
   "cell_type": "code",
   "execution_count": 580,
   "metadata": {},
   "outputs": [],
   "source": [
    "shap_explain_tree=shap.TreeExplainer(rf_reg,data=X_new_train)"
   ]
  },
  {
   "cell_type": "code",
   "execution_count": 581,
   "metadata": {},
   "outputs": [],
   "source": [
    "import warnings\n",
    "warnings.filterwarnings(action='ignore')"
   ]
  },
  {
   "cell_type": "code",
   "execution_count": 582,
   "metadata": {},
   "outputs": [],
   "source": [
    "shap_values_tree=shap_explain_tree.shap_values(X_train,check_additivity=False)"
   ]
  },
  {
   "cell_type": "code",
   "execution_count": 583,
   "metadata": {},
   "outputs": [
    {
     "data": {
      "image/png": "[encoded data removed]",
      "text/plain": [
       "<Figure size 576x511.2 with 2 Axes>"
      ]
     },
     "metadata": {
      "needs_background": "light"
     },
     "output_type": "display_data"
    }
   ],
   "source": [
    "shap.summary_plot(shap_values_tree,X_train)"
   ]
  },
  {
   "cell_type": "code",
   "execution_count": null,
   "metadata": {},
   "outputs": [],
   "source": []
  }
 ],
 "metadata": {
  "kernelspec": {
   "display_name": "Python 3",
   "language": "python",
   "name": "python3"
  },
  "language_info": {
   "codemirror_mode": {
    "name": "ipython",
    "version": 3
   },
   "file_extension": ".py",
   "mimetype": "text/x-python",
   "name": "python",
   "nbconvert_exporter": "python",
   "pygments_lexer": "ipython3",
   "version": "3.7.6"
  }
 },
 "nbformat": 4,
 "nbformat_minor": 4
}
